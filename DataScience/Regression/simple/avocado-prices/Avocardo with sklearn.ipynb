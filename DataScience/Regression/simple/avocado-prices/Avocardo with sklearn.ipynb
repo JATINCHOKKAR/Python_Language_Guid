{
 "cells": [
  {
   "cell_type": "code",
   "execution_count": 1,
   "metadata": {},
   "outputs": [],
   "source": [
    "import numpy as np\n",
    "from sklearn import linear_model\n",
    "import matplotlib.pyplot as plt"
   ]
  },
  {
   "cell_type": "code",
   "execution_count": 11,
   "metadata": {},
   "outputs": [],
   "source": [
    "def show_points_and_line(points, m, b):\n",
    "    min_x, max_x = points[0, 0], points[0, 0]\n",
    "    for point in points:\n",
    "        plt.plot(point[0], point[1], 'o', color='green')\n",
    "        if min_x>point[0]:\n",
    "            min_x=point[0]\n",
    "        elif max_x<point[0]:\n",
    "            max_x=point[0]\n",
    "    plt.plot([min_x, max_x], [(m*min_x+b), (m*max_x+b)], color='red')\n",
    "    plt.gca().set(xlabel=\"Volume\", ylabel=\"Average price\", title='Volume VS Price')\n",
    "    plt.legend(['Avocado'])\n",
    "    plt.show()"
   ]
  },
  {
   "cell_type": "code",
   "execution_count": 3,
   "metadata": {},
   "outputs": [],
   "source": [
    "# GET Data\n",
    "points = np.genfromtxt('avocado.csv', delimiter=',', max_rows=800)\n",
    "point_temp = []\n",
    "for point in points:\n",
    "    #  Volume and AveragePrice\n",
    "    point_temp.append([point[3]/1000000, point[2]])\n",
    "point_temp.pop(0)\n",
    "points = np.array(point_temp) \n",
    "x, y = zip(*points)\n",
    "x = np.array(x).reshape(-1, 1)\n",
    "y = np.array(y)"
   ]
  },
  {
   "cell_type": "code",
   "execution_count": 5,
   "metadata": {},
   "outputs": [
    {
     "data": {
      "text/plain": [
       "LinearRegression(copy_X=True, fit_intercept=True, n_jobs=None, normalize=False)"
      ]
     },
     "execution_count": 5,
     "metadata": {},
     "output_type": "execute_result"
    }
   ],
   "source": [
    "# Main Training\n",
    "regr = linear_model.LinearRegression()\n",
    "regr.fit(x, y)"
   ]
  },
  {
   "cell_type": "code",
   "execution_count": 7,
   "metadata": {},
   "outputs": [
    {
     "name": "stdout",
     "output_type": "stream",
     "text": [
      "m = -0.023138841151276762 and b = 1.1021494380282106\n",
      "error : 0.022992540762677684\n"
     ]
    }
   ],
   "source": [
    "m = regr.coef_[0]\n",
    "b = regr.intercept_\n",
    "print(f'm = {m} and b = {b}')\n",
    "print('error :',np.mean((regr.predict(x) - y) ** 2))"
   ]
  },
  {
   "cell_type": "code",
   "execution_count": 12,
   "metadata": {},
   "outputs": [
    {
     "data": {
      "image/png": "[encoded data removed]",
      "text/plain": [
       "<Figure size 432x288 with 1 Axes>"
      ]
     },
     "metadata": {
      "needs_background": "light"
     },
     "output_type": "display_data"
    }
   ],
   "source": [
    "show_points_and_line(points, m, b)"
   ]
  }
 ],
 "metadata": {
  "kernelspec": {
   "display_name": "Python 3",
   "language": "python",
   "name": "python3"
  },
  "language_info": {
   "codemirror_mode": {
    "name": "ipython",
    "version": 3
   },
   "file_extension": ".py",
   "mimetype": "text/x-python",
   "name": "python",
   "nbconvert_exporter": "python",
   "pygments_lexer": "ipython3",
   "version": "3.7.3"
  }
 },
 "nbformat": 4,
 "nbformat_minor": 2
}
